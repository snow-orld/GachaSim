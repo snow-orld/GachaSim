{
 "cells": [
  {
   "cell_type": "markdown",
   "metadata": {},
   "source": [
    "Ref:\n",
    "https://vinta.ws/code/timezone-in-python-offset-naive-and-offset-aware-datetimes.html"
   ]
  },
  {
   "cell_type": "code",
   "execution_count": 1,
   "metadata": {},
   "outputs": [],
   "source": [
    "from datetime import datetime, timezone, timedelta\n",
    "import pytz"
   ]
  },
  {
   "cell_type": "code",
   "execution_count": 9,
   "metadata": {},
   "outputs": [
    {
     "name": "stdout",
     "output_type": "stream",
     "text": [
      "2020-09-19 09:16:13.850120+00:00\n",
      "2020-09-19 09:16:13.851045+00:00\n",
      "2020-09-19 09:16:13.851546\n",
      "2020-09-19 09:16:13.851793+00:00\n"
     ]
    }
   ],
   "source": [
    "now_utc = pytz.utc.localize(datetime.utcnow())\n",
    "# equals to datetime.datetime.now(pytz.utc)\n",
    "# equals to datetime.datetime.utcnow().replace(tzinfo=datetime.timezone.utc)\n",
    "# datetime.datetime(2018, 2, 4, 10, 17, 40, 679562, tzinfo=<UTC>), aware\n",
    "print(now_utc)\n",
    "print(datetime.now(pytz.utc))\n",
    "print(datetime.utcnow())\n",
    "print(datetime.utcnow().replace(tzinfo=timezone.utc))"
   ]
  },
  {
   "cell_type": "code",
   "execution_count": 10,
   "metadata": {},
   "outputs": [
    {
     "name": "stdout",
     "output_type": "stream",
     "text": [
      "2020-09-19 17:16:13.850120+08:00\n"
     ]
    }
   ],
   "source": [
    "now_taipei = now_utc.astimezone(pytz.timezone('Asia/Taipei'))\n",
    "# convert to another timezone\n",
    "# datetime.datetime(2018, 2, 4, 18, 17, 40, 679562, tzinfo=<DstTzInfo 'Asia/Taipei' CST+8:00:00 STD>), aware\n",
    "print(now_taipei)"
   ]
  },
  {
   "cell_type": "code",
   "execution_count": 11,
   "metadata": {},
   "outputs": [
    {
     "data": {
      "text/plain": [
       "'2020-09-19T09:16:13.850120+00:00'"
      ]
     },
     "execution_count": 11,
     "metadata": {},
     "output_type": "execute_result"
    }
   ],
   "source": [
    "now_utc.isoformat()\n",
    "# '2018-02-04T10:17:40.679562+00:00'"
   ]
  },
  {
   "cell_type": "code",
   "execution_count": 12,
   "metadata": {},
   "outputs": [
    {
     "data": {
      "text/plain": [
       "'2020-09-19T17:16:13.850120+08:00'"
      ]
     },
     "execution_count": 12,
     "metadata": {},
     "output_type": "execute_result"
    }
   ],
   "source": [
    "now_taipei.isoformat()\n",
    "# '2018-02-04T18:17:40.679562+08:00'"
   ]
  },
  {
   "cell_type": "code",
   "execution_count": 13,
   "metadata": {},
   "outputs": [
    {
     "data": {
      "text/plain": [
       "True"
      ]
     },
     "execution_count": 13,
     "metadata": {},
     "output_type": "execute_result"
    }
   ],
   "source": [
    "now_utc == now_taipei\n",
    "# True"
   ]
  },
  {
   "cell_type": "markdown",
   "metadata": {},
   "source": [
    "## [Figure out local timezone](https://stackoverflow.com/questions/2720319/python-figure-out-local-timezone#:~:text=In%20Python%203.x%2C%20local%20timezone%20can%20be%20figured,%27s%20code.%20For%20python%20%3E%3D%203.6%2C%20you%27ll%20need)"
   ]
  },
  {
   "cell_type": "code",
   "execution_count": 4,
   "metadata": {},
   "outputs": [
    {
     "name": "stdout",
     "output_type": "stream",
     "text": [
      "CST\n"
     ]
    }
   ],
   "source": [
    "LOCAL_TIMEZONE = datetime.now(timezone(timedelta(0))).astimezone().tzinfo\n",
    "print(LOCAL_TIMEZONE)"
   ]
  }
 ],
 "metadata": {
  "kernelspec": {
   "display_name": "Python 3",
   "language": "python",
   "name": "python3"
  },
  "language_info": {
   "codemirror_mode": {
    "name": "ipython",
    "version": 3
   },
   "file_extension": ".py",
   "mimetype": "text/x-python",
   "name": "python",
   "nbconvert_exporter": "python",
   "pygments_lexer": "ipython3",
   "version": "3.7.2"
  }
 },
 "nbformat": 4,
 "nbformat_minor": 4
}
